{
 "cells": [
  {
   "cell_type": "code",
   "execution_count": 104,
   "metadata": {},
   "outputs": [],
   "source": [
    "from langchain import PromptTemplate\n",
    "from langchain.chains import RetrievalQA\n",
    "from langchain.embeddings import HuggingFaceEmbeddings\n",
    "from langchain_pinecone import PineconeVectorStore\n",
    "\n",
    "from langchain.document_loaders import PyPDFDirectoryLoader, DirectoryLoader\n",
    "from langchain.text_splitter import RecursiveCharacterTextSplitter\n",
    "from langchain.prompts import PromptTemplate\n",
    "from langchain.llms import CTransformers\n",
    "from langchain_cohere import CohereEmbeddings\n",
    "import os"
   ]
  },
  {
   "cell_type": "code",
   "execution_count": 94,
   "metadata": {},
   "outputs": [],
   "source": [
    "os.environ[\"COHERE_API_KEY\"]=\"AVfEN48Hcv0D0BMyG9uY8WFo1sVSppR7UCTQzdGz\"\n",
    "os.environ[\"PINECONE_API_KEY\"]=\"a1180ea3-b608-4431-976e-a780f812d5d2\"\n",
    "os.environ[\"PINECONE_INDEX_NAME\"] = \"testing\"\n",
    "os.environ[\"PINECONE_API_ENV\"]= \"gcp-starter\"\n"
   ]
  },
  {
   "cell_type": "code",
   "execution_count": 74,
   "metadata": {},
   "outputs": [],
   "source": [
    "def load_pdf(data):\n",
    "    loader = PyPDFDirectoryLoader(data\n",
    "                    \n",
    "                    )\n",
    "    \n",
    "    documents = loader.load()\n",
    "\n",
    "    return documents"
   ]
  },
  {
   "cell_type": "code",
   "execution_count": 88,
   "metadata": {},
   "outputs": [],
   "source": [
    "extracted_data = load_pdf(r\"C:\\Users\\User pc\\Desktop\\streamlit_projects\\End_to_end_Medial_Chatbot_LLama2\\data\")"
   ]
  },
  {
   "cell_type": "code",
   "execution_count": 89,
   "metadata": {},
   "outputs": [],
   "source": [
    "def text_split(extracted_data):\n",
    "    text_splitter = RecursiveCharacterTextSplitter(chunk_size = 500, chunk_overlap = 20)\n",
    "    text_chunks = text_splitter.split_documents(extracted_data)\n",
    "\n",
    "    return text_chunks"
   ]
  },
  {
   "cell_type": "code",
   "execution_count": 90,
   "metadata": {},
   "outputs": [
    {
     "name": "stdout",
     "output_type": "stream",
     "text": [
      "length of my chunk: 7020\n"
     ]
    }
   ],
   "source": [
    "text_chunks = text_split(extracted_data)\n",
    "print(\"length of my chunk:\", len(text_chunks))"
   ]
  },
  {
   "cell_type": "code",
   "execution_count": 98,
   "metadata": {},
   "outputs": [],
   "source": [
    "def cohere_embeddings():\n",
    "    embeddings = CohereEmbeddings()\n",
    "\n",
    "    return embeddings"
   ]
  },
  {
   "cell_type": "code",
   "execution_count": 99,
   "metadata": {},
   "outputs": [],
   "source": [
    "embeddings = cohere_embeddings()"
   ]
  },
  {
   "cell_type": "code",
   "execution_count": 101,
   "metadata": {},
   "outputs": [
    {
     "name": "stdout",
     "output_type": "stream",
     "text": [
      "Length 4096\n"
     ]
    }
   ],
   "source": [
    "query_result = embeddings.embed_query(\"Hello world\")\n",
    "print(\"Length\", len(query_result))"
   ]
  },
  {
   "cell_type": "code",
   "execution_count": 106,
   "metadata": {},
   "outputs": [],
   "source": [
    "index_name = \"medicalchatbot\""
   ]
  },
  {
   "cell_type": "code",
   "execution_count": 107,
   "metadata": {},
   "outputs": [],
   "source": [
    "docsearch = PineconeVectorStore.from_documents(text_chunks, embeddings, index_name=index_name)"
   ]
  },
  {
   "cell_type": "code",
   "execution_count": 108,
   "metadata": {},
   "outputs": [],
   "source": [
    "query = \"What are Allergies\"\n",
    "docs=docsearch.similarity_search(query)"
   ]
  },
  {
   "cell_type": "code",
   "execution_count": 109,
   "metadata": {},
   "outputs": [
    {
     "name": "stdout",
     "output_type": "stream",
     "text": [
      "Result [Document(page_content='Allergy and Immunology. Boston: Little, Brown and Co.,\\n1995.\\nNovick, N. L. You Can Do Something About Your Allergies.\\nNew York: Macmillan, 1994.\\nWeil, A. Natural Health, Natural Medicine: A Comprehensive\\nManual for Wellness and Self-Care. New York: Houghton\\nMifflin, 1995.\\nRichard Robinson\\nAllergies\\nDefinition\\nAllergies are abnormal reactions of the immune sys-\\ntem that occur in response to otherwise harmless sub-stances.', metadata={'page': 127.0, 'source': 'C:\\\\Users\\\\User pc\\\\Desktop\\\\streamlit_projects\\\\End_to_end_Medial_Chatbot_LLama2\\\\data\\\\Gale Encyclopedia of Medicine. Vol. 1. 2nd Edition ( PDFDrive ).pdf'}), Document(page_content='KEY TERMS\\nAllergen —A substance that causes an allergy.\\nAnaphylaxis —A sudden, life-threatening allergic\\nreaction.\\nHallucination —A false or distorted perception of\\nobjects, sounds, or events that seems real. Halluci-nations usually result from drugs or mental disor-ders.\\nHistamine —A chemical released from cells in the\\nimmune system as part of an allergic reaction.\\nPregnancy category —A system of classifying', metadata={'page': 290.0, 'source': 'C:\\\\Users\\\\User pc\\\\Desktop\\\\streamlit_projects\\\\End_to_end_Medial_Chatbot_LLama2\\\\data\\\\Gale Encyclopedia of Medicine. Vol. 1. 2nd Edition ( PDFDrive ).pdf'}), Document(page_content='Purpose\\nAllergy is a reaction of the immune system. Nor-', metadata={'page': 135.0, 'source': 'C:\\\\Users\\\\User pc\\\\Desktop\\\\streamlit_projects\\\\End_to_end_Medial_Chatbot_LLama2\\\\data\\\\Gale Encyclopedia of Medicine. Vol. 1. 2nd Edition ( PDFDrive ).pdf'}), Document(page_content='Description\\nAllergies are among the most common of medical\\ndisorders. It is estimated that 60 million Americans, ormore than one in every five people, suffer from someform of allergy, with similar proportions throughoutmuch of the rest of the world. Allergy is the single largestreason for school absence and is a major source of lostproductivity in the workplace.\\nAn allergy is a type of immune reaction. Normally,', metadata={'page': 128.0, 'source': 'C:\\\\Users\\\\User pc\\\\Desktop\\\\streamlit_projects\\\\End_to_end_Medial_Chatbot_LLama2\\\\data\\\\Gale Encyclopedia of Medicine. Vol. 1. 2nd Edition ( PDFDrive ).pdf'})]\n"
     ]
    }
   ],
   "source": [
    "print(\"Result\", docs)"
   ]
  },
  {
   "cell_type": "code",
   "execution_count": 110,
   "metadata": {},
   "outputs": [],
   "source": [
    "prompt_template=\"\"\"\n",
    "Use the following pieces of information to answer the user's question.\n",
    "If you don't know the answer, just say that you don't know, don't try to make up an answer.\n",
    "\n",
    "Context: {context}\n",
    "Question: {question}\n",
    "\n",
    "Only return the helpful answer below and nothing else.\n",
    "Helpful answer:\n",
    "\"\"\""
   ]
  },
  {
   "cell_type": "code",
   "execution_count": 111,
   "metadata": {},
   "outputs": [],
   "source": [
    "PROMPT=PromptTemplate(template=prompt_template, input_variables=[\"context\", \"question\"])\n",
    "chain_type_kwargs={\"prompt\": PROMPT}"
   ]
  },
  {
   "cell_type": "code",
   "execution_count": null,
   "metadata": {},
   "outputs": [],
   "source": []
  }
 ],
 "metadata": {
  "kernelspec": {
   "display_name": "mchatbot",
   "language": "python",
   "name": "python3"
  },
  "language_info": {
   "codemirror_mode": {
    "name": "ipython",
    "version": 3
   },
   "file_extension": ".py",
   "mimetype": "text/x-python",
   "name": "python",
   "nbconvert_exporter": "python",
   "pygments_lexer": "ipython3",
   "version": "3.11.5"
  }
 },
 "nbformat": 4,
 "nbformat_minor": 2
}
